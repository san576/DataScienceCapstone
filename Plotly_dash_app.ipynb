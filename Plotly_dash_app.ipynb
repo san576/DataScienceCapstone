{
    "cells": [
        {
            "cell_type": "code",
            "execution_count": 5,
            "id": "8337cdc6-f7bb-488d-8170-a420734eb9d7",
            "metadata": {},
            "outputs": [
                {
                    "name": "stderr",
                    "output_type": "stream",
                    "text": "<ipython-input-5-8a5d33d24890>:3: UserWarning: \nThe dash_html_components package is deprecated. Please replace\n`import dash_html_components as html` with `from dash import html`\n  import dash_html_components as html\n<ipython-input-5-8a5d33d24890>:4: UserWarning: \nThe dash_core_components package is deprecated. Please replace\n`import dash_core_components as dcc` with `from dash import dcc`\n  import dash_core_components as dcc\n"
                }
            ],
            "source": "import pandas as pd\nimport dash\nimport dash_html_components as html\nimport dash_core_components as dcc\nfrom dash.dependencies import Input, Output\nimport plotly.express as px\n"
        },
        {
            "cell_type": "code",
            "execution_count": 6,
            "id": "ba5a27ec-4ca7-4b82-bca4-fb67031da07d",
            "metadata": {},
            "outputs": [],
            "source": "spacex_df = pd.read_csv(\"https://cf-courses-data.s3.us.cloud-object-storage.appdomain.cloud/IBM-DS0321EN-SkillsNetwork/datasets/spacex_launch_dash.csv\")\nmax_payload = spacex_df['Payload Mass (kg)'].max()\nmin_payload = spacex_df['Payload Mass (kg)'].min()"
        },
        {
            "cell_type": "code",
            "execution_count": 10,
            "metadata": {},
            "outputs": [
                {
                    "data": {
                        "text/html": "<div>\n<style scoped>\n    .dataframe tbody tr th:only-of-type {\n        vertical-align: middle;\n    }\n\n    .dataframe tbody tr th {\n        vertical-align: top;\n    }\n\n    .dataframe thead th {\n        text-align: right;\n    }\n</style>\n<table border=\"1\" class=\"dataframe\">\n  <thead>\n    <tr style=\"text-align: right;\">\n      <th></th>\n      <th>Unnamed: 0</th>\n      <th>Flight Number</th>\n      <th>Launch Site</th>\n      <th>Mission Outcome</th>\n      <th>class</th>\n      <th>Payload Mass (kg)</th>\n      <th>Booster Version</th>\n      <th>Booster Version Category</th>\n    </tr>\n  </thead>\n  <tbody>\n    <tr>\n      <th>0</th>\n      <td>0</td>\n      <td>1</td>\n      <td>CCAFS LC-40</td>\n      <td>Success</td>\n      <td>0</td>\n      <td>0.0</td>\n      <td>F9 v1.0  B0003</td>\n      <td>v1.0</td>\n    </tr>\n    <tr>\n      <th>1</th>\n      <td>1</td>\n      <td>2</td>\n      <td>CCAFS LC-40</td>\n      <td>Success</td>\n      <td>0</td>\n      <td>0.0</td>\n      <td>F9 v1.0  B0004</td>\n      <td>v1.0</td>\n    </tr>\n    <tr>\n      <th>2</th>\n      <td>2</td>\n      <td>3</td>\n      <td>CCAFS LC-40</td>\n      <td>Success</td>\n      <td>0</td>\n      <td>525.0</td>\n      <td>F9 v1.0  B0005</td>\n      <td>v1.0</td>\n    </tr>\n    <tr>\n      <th>3</th>\n      <td>3</td>\n      <td>4</td>\n      <td>CCAFS LC-40</td>\n      <td>Success</td>\n      <td>0</td>\n      <td>500.0</td>\n      <td>F9 v1.0  B0006</td>\n      <td>v1.0</td>\n    </tr>\n    <tr>\n      <th>4</th>\n      <td>4</td>\n      <td>5</td>\n      <td>CCAFS LC-40</td>\n      <td>Success</td>\n      <td>0</td>\n      <td>677.0</td>\n      <td>F9 v1.0  B0007</td>\n      <td>v1.0</td>\n    </tr>\n  </tbody>\n</table>\n</div>",
                        "text/plain": "   Unnamed: 0  Flight Number  Launch Site Mission Outcome  class  \\\n0           0              1  CCAFS LC-40         Success      0   \n1           1              2  CCAFS LC-40         Success      0   \n2           2              3  CCAFS LC-40         Success      0   \n3           3              4  CCAFS LC-40         Success      0   \n4           4              5  CCAFS LC-40         Success      0   \n\n   Payload Mass (kg) Booster Version Booster Version Category  \n0                0.0  F9 v1.0  B0003                     v1.0  \n1                0.0  F9 v1.0  B0004                     v1.0  \n2              525.0  F9 v1.0  B0005                     v1.0  \n3              500.0  F9 v1.0  B0006                     v1.0  \n4              677.0  F9 v1.0  B0007                     v1.0  "
                    },
                    "execution_count": 10,
                    "metadata": {},
                    "output_type": "execute_result"
                }
            ],
            "source": "spacex_df.head()"
        },
        {
            "cell_type": "code",
            "execution_count": 14,
            "id": "5a15a130-69a5-4cf8-8ccc-442a76051731",
            "metadata": {},
            "outputs": [],
            "source": "app = dash.Dash(__name__)\n\napp.layout = html.Div(children=[html.H1('SpaceX Launch Records Dashboard',\n                                        style={'textAlign': 'center', 'color': '#503D36',\n                                               'font-size': 40}),\n                               dcc.Dropdown(id='site-dropdown',\n                                        options=[\n                                            {'label': 'All Sites', 'value': 'ALL Sites'},\n                                            {'label': 'CCAFS LC-40', 'value': 'CCAFS LC-40'},\n                                            {'label': 'VAFB SLC-4E', 'value': 'VAFB SLC-4E'},\n                                            {'label': 'KSC LC-39A', 'value': 'KSC LC-39A'},\n                                            {'label': 'CCAFS SLC-40', 'value': 'CCAFS SLC-40'},\n                                        ],\n                                        value='ALL',\n                                        placeholder=\"Select \",\n                                        searchable=True\n                                        ),\n                               html.Br(),\n                               dcc.Graph(id='success-pie-chart', figure = {}),\n                               html.Br(),\n                               html.P(\"Payload range (Kg):\"),\n                               html.Br(),\n                               html.Div([dcc.RangeSlider(id='payload-slider',\n                                                                min=0,\n                                                                max=10000,\n                                                                step=1000,\n                                                                marks={0: '0', 2500: '2500', 5000:'5000', 7500:'7500', 10000: '10000'},\n                                                                value=[min_payload, max_payload]\n                                                          ), html.Div(id='output-container-range-slider')\n                                        ]),\n                               html.Br(),\n                               dcc.Graph(id='success-payload-scatter-chart', figure = {}),\n                               \n                            \n                        ])\n@app.callback(Output('success-pie-chart','figure'),\n              Input(component_id='site-dropdown', component_property='value'))\ndef get_pie_chart(entered_site):\n    data = spacex_df       \n    if entered_site == 'ALL Sites':\n        return px.pie(data, values='class',names='Launch Site', title='Total successful launches count for all sites')\n    else:\n        data= data[data['Launch Site'] == entered_site]\n        return px.pie(data, names='class', title='Success vs. Failed counts for the site \"{}\"'.format(entered_site))\n    \n    \n@app.callback(Output(component_id='success-payload-scatter-chart', component_property='figure'),\n               [Input(component_id='site-dropdown', component_property='value'),\n               Input(component_id='payload-slider', component_property='value')])\ndef update_output(entered_site, range_):\n    filtered_df = spacex_df[spacex_df[\"Payload Mass (kg)\"].between(range_[0],range_[1])]\n    if entered_site == 'ALL Sites':\n        return px.scatter(filtered_df, x = \"Payload Mass (kg)\", y = \"class\", color = \"Booster Version Category\",\n                         title = \"Corelation between Payload and Success for all sites\")\n    else:\n        filtered_df=filtered_df[filtered_df['Launch Site'] == entered_site]\n        return px.scatter(filtered_df, x = \"Payload Mass (kg)\", y = \"class\", color = \"Booster Version Category\",\n                         title = 'Corelation between Payload and Success for site \"{}\"'.format(entered_site))\n\n    \n@app.callback( Output(component_id='output-container-range-slider', component_property='children'),\n               Input(component_id='payload-slider', component_property='value'))\ndef update_output(value):\n    return 'You have selected \"{}\"'.format(value)\n        \n"
        },
        {
            "cell_type": "code",
            "execution_count": null,
            "metadata": {},
            "outputs": [
                {
                    "name": "stdout",
                    "output_type": "stream",
                    "text": "Dash is running on http://127.0.0.1:1234/\n\nDash is running on http://127.0.0.1:1234/\n\nDash is running on http://127.0.0.1:1234/\n\nDash is running on http://127.0.0.1:1234/\n\nDash is running on http://127.0.0.1:1234/\n\nDash is running on http://127.0.0.1:1234/\n\nDash is running on http://127.0.0.1:1234/\n\n * Serving Flask app '__main__' (lazy loading)\n * Environment: production\n\u001b[31m   WARNING: This is a development server. Do not use it in a production deployment.\u001b[0m\n\u001b[2m   Use a production WSGI server instead.\u001b[0m\n * Debug mode: off\n"
                }
            ],
            "source": "if __name__ == '__main__':\n    app.run_server(port=1234)"
        },
        {
            "cell_type": "code",
            "execution_count": null,
            "metadata": {},
            "outputs": [],
            "source": ""
        }
    ],
    "metadata": {
        "kernelspec": {
            "display_name": "Python 3.8",
            "language": "python",
            "name": "python3"
        },
        "language_info": {
            "codemirror_mode": {
                "name": "ipython",
                "version": 3
            },
            "file_extension": ".py",
            "mimetype": "text/x-python",
            "name": "python",
            "nbconvert_exporter": "python",
            "pygments_lexer": "ipython3",
            "version": "3.8.12"
        }
    },
    "nbformat": 4,
    "nbformat_minor": 5
}